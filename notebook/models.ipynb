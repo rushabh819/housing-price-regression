{
 "cells": [
  {
   "cell_type": "code",
   "execution_count": 21,
   "id": "f4228e65",
   "metadata": {},
   "outputs": [],
   "source": [
    "import pandas as pd\n",
    "import numpy as np\n",
    "\n",
    "from sklearn.model_selection import train_test_split\n",
    "from sklearn.linear_model import Ridge\n",
    "from sklearn.preprocessing import StandardScaler\n",
    "from sklearn.pipeline import make_pipeline"
   ]
  },
  {
   "cell_type": "code",
   "execution_count": 2,
   "id": "bc7b29fc",
   "metadata": {},
   "outputs": [
    {
     "data": {
      "text/html": [
       "<div>\n",
       "<style scoped>\n",
       "    .dataframe tbody tr th:only-of-type {\n",
       "        vertical-align: middle;\n",
       "    }\n",
       "\n",
       "    .dataframe tbody tr th {\n",
       "        vertical-align: top;\n",
       "    }\n",
       "\n",
       "    .dataframe thead th {\n",
       "        text-align: right;\n",
       "    }\n",
       "</style>\n",
       "<table border=\"1\" class=\"dataframe\">\n",
       "  <thead>\n",
       "    <tr style=\"text-align: right;\">\n",
       "      <th></th>\n",
       "      <th>Order</th>\n",
       "      <th>PID</th>\n",
       "      <th>MS SubClass</th>\n",
       "      <th>Lot Frontage</th>\n",
       "      <th>Lot Area</th>\n",
       "      <th>Overall Qual</th>\n",
       "      <th>Overall Cond</th>\n",
       "      <th>Year Built</th>\n",
       "      <th>Year Remod/Add</th>\n",
       "      <th>Mas Vnr Area</th>\n",
       "      <th>...</th>\n",
       "      <th>Sale Type_Oth</th>\n",
       "      <th>Sale Type_VWD</th>\n",
       "      <th>Sale Type_WD</th>\n",
       "      <th>Sale Condition_Abnorml</th>\n",
       "      <th>Sale Condition_AdjLand</th>\n",
       "      <th>Sale Condition_Alloca</th>\n",
       "      <th>Sale Condition_Family</th>\n",
       "      <th>Sale Condition_Normal</th>\n",
       "      <th>Sale Condition_Partial</th>\n",
       "      <th>SalePrice</th>\n",
       "    </tr>\n",
       "  </thead>\n",
       "  <tbody>\n",
       "    <tr>\n",
       "      <th>0</th>\n",
       "      <td>-1.731460</td>\n",
       "      <td>-0.997164</td>\n",
       "      <td>-0.877005</td>\n",
       "      <td>3.375742</td>\n",
       "      <td>2.744381</td>\n",
       "      <td>-0.067254</td>\n",
       "      <td>-0.506718</td>\n",
       "      <td>-0.375537</td>\n",
       "      <td>-1.163488</td>\n",
       "      <td>0.061046</td>\n",
       "      <td>...</td>\n",
       "      <td>0</td>\n",
       "      <td>0</td>\n",
       "      <td>1</td>\n",
       "      <td>0</td>\n",
       "      <td>0</td>\n",
       "      <td>0</td>\n",
       "      <td>0</td>\n",
       "      <td>1</td>\n",
       "      <td>0</td>\n",
       "      <td>215000</td>\n",
       "    </tr>\n",
       "    <tr>\n",
       "      <th>1</th>\n",
       "      <td>-1.730277</td>\n",
       "      <td>-0.996904</td>\n",
       "      <td>-0.877005</td>\n",
       "      <td>0.514952</td>\n",
       "      <td>0.187097</td>\n",
       "      <td>-0.776079</td>\n",
       "      <td>0.393091</td>\n",
       "      <td>-0.342468</td>\n",
       "      <td>-1.115542</td>\n",
       "      <td>-0.566039</td>\n",
       "      <td>...</td>\n",
       "      <td>0</td>\n",
       "      <td>0</td>\n",
       "      <td>1</td>\n",
       "      <td>0</td>\n",
       "      <td>0</td>\n",
       "      <td>0</td>\n",
       "      <td>0</td>\n",
       "      <td>1</td>\n",
       "      <td>0</td>\n",
       "      <td>105000</td>\n",
       "    </tr>\n",
       "    <tr>\n",
       "      <th>2</th>\n",
       "      <td>-1.729095</td>\n",
       "      <td>-0.996899</td>\n",
       "      <td>-0.877005</td>\n",
       "      <td>0.561850</td>\n",
       "      <td>0.522814</td>\n",
       "      <td>-0.067254</td>\n",
       "      <td>0.393091</td>\n",
       "      <td>-0.441674</td>\n",
       "      <td>-1.259380</td>\n",
       "      <td>0.038650</td>\n",
       "      <td>...</td>\n",
       "      <td>0</td>\n",
       "      <td>0</td>\n",
       "      <td>1</td>\n",
       "      <td>0</td>\n",
       "      <td>0</td>\n",
       "      <td>0</td>\n",
       "      <td>0</td>\n",
       "      <td>1</td>\n",
       "      <td>0</td>\n",
       "      <td>172000</td>\n",
       "    </tr>\n",
       "    <tr>\n",
       "      <th>3</th>\n",
       "      <td>-1.727913</td>\n",
       "      <td>-0.996888</td>\n",
       "      <td>-0.877005</td>\n",
       "      <td>1.124628</td>\n",
       "      <td>0.128458</td>\n",
       "      <td>0.641571</td>\n",
       "      <td>-0.506718</td>\n",
       "      <td>-0.110988</td>\n",
       "      <td>-0.779919</td>\n",
       "      <td>-0.566039</td>\n",
       "      <td>...</td>\n",
       "      <td>0</td>\n",
       "      <td>0</td>\n",
       "      <td>1</td>\n",
       "      <td>0</td>\n",
       "      <td>0</td>\n",
       "      <td>0</td>\n",
       "      <td>0</td>\n",
       "      <td>1</td>\n",
       "      <td>0</td>\n",
       "      <td>244000</td>\n",
       "    </tr>\n",
       "    <tr>\n",
       "      <th>4</th>\n",
       "      <td>-1.726731</td>\n",
       "      <td>-0.992903</td>\n",
       "      <td>0.061285</td>\n",
       "      <td>0.233563</td>\n",
       "      <td>0.467348</td>\n",
       "      <td>-0.776079</td>\n",
       "      <td>-0.506718</td>\n",
       "      <td>0.848000</td>\n",
       "      <td>0.658466</td>\n",
       "      <td>-0.566039</td>\n",
       "      <td>...</td>\n",
       "      <td>0</td>\n",
       "      <td>0</td>\n",
       "      <td>1</td>\n",
       "      <td>0</td>\n",
       "      <td>0</td>\n",
       "      <td>0</td>\n",
       "      <td>0</td>\n",
       "      <td>1</td>\n",
       "      <td>0</td>\n",
       "      <td>189900</td>\n",
       "    </tr>\n",
       "  </tbody>\n",
       "</table>\n",
       "<p>5 rows × 299 columns</p>\n",
       "</div>"
      ],
      "text/plain": [
       "      Order       PID  MS SubClass  Lot Frontage  Lot Area  Overall Qual  \\\n",
       "0 -1.731460 -0.997164    -0.877005      3.375742  2.744381     -0.067254   \n",
       "1 -1.730277 -0.996904    -0.877005      0.514952  0.187097     -0.776079   \n",
       "2 -1.729095 -0.996899    -0.877005      0.561850  0.522814     -0.067254   \n",
       "3 -1.727913 -0.996888    -0.877005      1.124628  0.128458      0.641571   \n",
       "4 -1.726731 -0.992903     0.061285      0.233563  0.467348     -0.776079   \n",
       "\n",
       "   Overall Cond  Year Built  Year Remod/Add  Mas Vnr Area  ...  Sale Type_Oth  \\\n",
       "0     -0.506718   -0.375537       -1.163488      0.061046  ...              0   \n",
       "1      0.393091   -0.342468       -1.115542     -0.566039  ...              0   \n",
       "2      0.393091   -0.441674       -1.259380      0.038650  ...              0   \n",
       "3     -0.506718   -0.110988       -0.779919     -0.566039  ...              0   \n",
       "4     -0.506718    0.848000        0.658466     -0.566039  ...              0   \n",
       "\n",
       "   Sale Type_VWD  Sale Type_WD   Sale Condition_Abnorml  \\\n",
       "0              0              1                       0   \n",
       "1              0              1                       0   \n",
       "2              0              1                       0   \n",
       "3              0              1                       0   \n",
       "4              0              1                       0   \n",
       "\n",
       "   Sale Condition_AdjLand  Sale Condition_Alloca  Sale Condition_Family  \\\n",
       "0                       0                      0                      0   \n",
       "1                       0                      0                      0   \n",
       "2                       0                      0                      0   \n",
       "3                       0                      0                      0   \n",
       "4                       0                      0                      0   \n",
       "\n",
       "   Sale Condition_Normal  Sale Condition_Partial  SalePrice  \n",
       "0                      1                       0     215000  \n",
       "1                      1                       0     105000  \n",
       "2                      1                       0     172000  \n",
       "3                      1                       0     244000  \n",
       "4                      1                       0     189900  \n",
       "\n",
       "[5 rows x 299 columns]"
      ]
     },
     "execution_count": 2,
     "metadata": {},
     "output_type": "execute_result"
    }
   ],
   "source": [
    "data= pd.read_csv(\"../data/processed/Clean_AmesHousing.csv\")\n",
    "data.head()"
   ]
  },
  {
   "cell_type": "code",
   "execution_count": 28,
   "id": "e7922403",
   "metadata": {},
   "outputs": [
    {
     "data": {
      "text/plain": [
       "0.8884591669625419"
      ]
     },
     "execution_count": 28,
     "metadata": {},
     "output_type": "execute_result"
    }
   ],
   "source": [
    "# setup random seed\n",
    "np.random.seed(123)\n",
    "\n",
    "# create train and test dataset\n",
    "X = data.drop(columns=\"SalePrice\", axis=1)\n",
    "y = data[\"SalePrice\"]\n",
    "\n",
    "# spliting data into train and test\n",
    "X_train, X_test, y_train, y_test = train_test_split(X, y, test_size= 0.2)\n",
    "\n",
    "# instantiate Ridge model\n",
    "model_ridge = make_pipeline(StandardScaler(), Ridge(alpha=1.0))\n",
    "model_ridge.fit(X_train, y_train)\n",
    "\n",
    "# test score of Ridge model on test data\n",
    "model_ridge.score(X_test, y_test)"
   ]
  },
  {
   "cell_type": "code",
   "execution_count": 29,
   "id": "51693f44",
   "metadata": {},
   "outputs": [],
   "source": [
    "y_pred = model_ridge.predict(X_test)"
   ]
  },
  {
   "cell_type": "code",
   "execution_count": 30,
   "id": "78cd53d7",
   "metadata": {},
   "outputs": [
    {
     "name": "stdout",
     "output_type": "stream",
     "text": [
      "R² Score: 0.8884591669625419\n",
      "Mean Absolute Error: 15842.062901271614\n",
      "Mean Squared Error: 608306865.827236\n"
     ]
    }
   ],
   "source": [
    "from sklearn.metrics import r2_score, mean_absolute_error, mean_squared_error\n",
    "\n",
    "print(f\"R² Score: {r2_score(y_test, y_pred)}\")\n",
    "print(f\"Mean Absolute Error: {mean_absolute_error(y_test, y_pred)}\")\n",
    "print(f\"Mean Squared Error: {mean_squared_error(y_test, y_pred)}\")"
   ]
  },
  {
   "cell_type": "code",
   "execution_count": 25,
   "id": "42d27fac",
   "metadata": {},
   "outputs": [
    {
     "data": {
      "image/png": "[encoded data removed]",
      "text/plain": [
       "<Figure size 640x480 with 1 Axes>"
      ]
     },
     "metadata": {},
     "output_type": "display_data"
    }
   ],
   "source": [
    "import matplotlib.pyplot as plt\n",
    "\n",
    "residuals = y_test - y_pred\n",
    "plt.scatter(y_pred, residuals)\n",
    "plt.axhline(0, color='red', linestyle='--')\n",
    "plt.title(\"Residual Plot\")\n",
    "plt.xlabel(\"Predicted\")\n",
    "plt.ylabel(\"Residuals\")\n",
    "plt.show()"
   ]
  },
  {
   "cell_type": "code",
   "execution_count": null,
   "id": "fc1fe4a6",
   "metadata": {},
   "outputs": [],
   "source": []
  },
  {
   "cell_type": "code",
   "execution_count": 37,
   "id": "dc254e83",
   "metadata": {},
   "outputs": [
    {
     "data": {
      "text/plain": [
       "0.9048176020101802"
      ]
     },
     "execution_count": 37,
     "metadata": {},
     "output_type": "execute_result"
    }
   ],
   "source": [
    "# lets try Random Forest Regressor\n",
    "\n",
    "from sklearn.ensemble import RandomForestRegressor\n",
    "\n",
    "# setup random seed \n",
    "np.random.seed(123)\n",
    "\n",
    "# create train and test dataset\n",
    "X = data.drop(columns=\"SalePrice\", axis=1)\n",
    "y = data[\"SalePrice\"]\n",
    "\n",
    "# spliting data into train and test\n",
    "X_train, X_test, y_train, y_test = train_test_split(X, y, test_size= 0.2)\n",
    "\n",
    "# instantiate Ridge model\n",
    "model_rf = RandomForestRegressor(n_estimators= 100)\n",
    "model_rf.fit(X_train, y_train)\n",
    "\n",
    "# test score of Ridge model on test data\n",
    "model_rf.score(X_test, y_test)"
   ]
  },
  {
   "cell_type": "code",
   "execution_count": 38,
   "id": "68c07ded",
   "metadata": {},
   "outputs": [],
   "source": [
    "y_pred_rf = model_rf.predict(X_test)"
   ]
  },
  {
   "cell_type": "code",
   "execution_count": 39,
   "id": "a4380a18",
   "metadata": {},
   "outputs": [
    {
     "name": "stdout",
     "output_type": "stream",
     "text": [
      "R² Score: 0.9048176020101802\n",
      "Mean Absolute Error: 14474.067218430035\n",
      "Mean Squared Error: 519093363.62642777\n"
     ]
    }
   ],
   "source": [
    "from sklearn.metrics import r2_score, mean_absolute_error, mean_squared_error\n",
    "\n",
    "print(f\"R² Score: {r2_score(y_test, y_pred_rf)}\")\n",
    "print(f\"Mean Absolute Error: {mean_absolute_error(y_test, y_pred_rf)}\")\n",
    "print(f\"Mean Squared Error: {mean_squared_error(y_test, y_pred_rf)}\")"
   ]
  },
  {
   "cell_type": "code",
   "execution_count": 33,
   "id": "cc0279cb",
   "metadata": {},
   "outputs": [
    {
     "name": "stdout",
     "output_type": "stream",
     "text": [
      "ridge score: 0.8884591669625419\n",
      "random forest score: 0.9048176020101802\n"
     ]
    }
   ],
   "source": [
    "print(f\"ridge score: {model_ridge.score(X_test, y_test)}\")\n",
    "print(f\"random forest score: {model_rf.score(X_test, y_test)}\")"
   ]
  }
 ],
 "metadata": {
  "kernelspec": {
   "display_name": "Python 3",
   "language": "python",
   "name": "python3"
  },
  "language_info": {
   "codemirror_mode": {
    "name": "ipython",
    "version": 3
   },
   "file_extension": ".py",
   "mimetype": "text/x-python",
   "name": "python",
   "nbconvert_exporter": "python",
   "pygments_lexer": "ipython3",
   "version": "3.13.2"
  }
 },
 "nbformat": 4,
 "nbformat_minor": 5
}
